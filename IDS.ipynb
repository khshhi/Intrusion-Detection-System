{
 "cells": [
  {
   "cell_type": "code",
   "execution_count": 1,
   "id": "5b8d5d80",
   "metadata": {
    "_cell_guid": "b1076dfc-b9ad-4769-8c92-a6c4dae69d19",
    "_uuid": "8f2839f25d086af736a60e9eeb907d3b93b6e0e5",
    "execution": {
     "iopub.execute_input": "2023-07-21T11:16:53.757881Z",
     "iopub.status.busy": "2023-07-21T11:16:53.757433Z",
     "iopub.status.idle": "2023-07-21T11:16:53.782357Z",
     "shell.execute_reply": "2023-07-21T11:16:53.781312Z"
    },
    "papermill": {
     "duration": 0.0438,
     "end_time": "2023-07-21T11:16:53.785077",
     "exception": false,
     "start_time": "2023-07-21T11:16:53.741277",
     "status": "completed"
    },
    "tags": []
   },
   "outputs": [
    {
     "name": "stdout",
     "output_type": "stream",
     "text": [
      "/kaggle/input/network-intrusion-detection/Train_data.csv\n",
      "/kaggle/input/network-intrusion-detection/Test_data.csv\n",
      "/kaggle/input/ids-isa/Phase2.csv\n"
     ]
    }
   ],
   "source": [
    "# This Python 3 environment comes with many helpful analytics libraries installed\n",
    "# It is defined by the kaggle/python Docker image: https://github.com/kaggle/docker-python\n",
    "# For example, here's several helpful packages to load\n",
    "\n",
    "import numpy as np # linear algebra\n",
    "import pandas as pd # data processing, CSV file I/O (e.g. pd.read_csv)\n",
    "\n",
    "# Input data files are available in the read-only \"../input/\" directory\n",
    "# For example, running this (by clicking run or pressing Shift+Enter) will list all files under the input directory\n",
    "\n",
    "import os\n",
    "for dirname, _, filenames in os.walk('/kaggle/input'):\n",
    "    for filename in filenames:\n",
    "        print(os.path.join(dirname, filename))\n",
    "\n",
    "# You can write up to 20GB to the current directory (/kaggle/working/) that gets preserved as output when you create a version using \"Save & Run All\" \n",
    "# You can also write temporary files to /kaggle/temp/, but they won't be saved outside of the current session"
   ]
  },
  {
   "cell_type": "code",
   "execution_count": 2,
   "id": "23943b14",
   "metadata": {
    "execution": {
     "iopub.execute_input": "2023-07-21T11:16:53.809617Z",
     "iopub.status.busy": "2023-07-21T11:16:53.809211Z",
     "iopub.status.idle": "2023-07-21T11:16:54.010671Z",
     "shell.execute_reply": "2023-07-21T11:16:54.009347Z"
    },
    "papermill": {
     "duration": 0.216667,
     "end_time": "2023-07-21T11:16:54.013571",
     "exception": false,
     "start_time": "2023-07-21T11:16:53.796904",
     "status": "completed"
    },
    "tags": []
   },
   "outputs": [],
   "source": [
    "ds = pd.read_csv('/kaggle/input/ids-isa/Phase2.csv')\n",
    "\n"
   ]
  },
  {
   "cell_type": "code",
   "execution_count": 3,
   "id": "e8b810ad",
   "metadata": {
    "execution": {
     "iopub.execute_input": "2023-07-21T11:16:54.038877Z",
     "iopub.status.busy": "2023-07-21T11:16:54.038364Z",
     "iopub.status.idle": "2023-07-21T11:16:54.116294Z",
     "shell.execute_reply": "2023-07-21T11:16:54.114477Z"
    },
    "papermill": {
     "duration": 0.094127,
     "end_time": "2023-07-21T11:16:54.118947",
     "exception": false,
     "start_time": "2023-07-21T11:16:54.024820",
     "status": "completed"
    },
    "tags": []
   },
   "outputs": [
    {
     "name": "stdout",
     "output_type": "stream",
     "text": [
      "<class 'pandas.core.frame.DataFrame'>\n",
      "RangeIndex: 25192 entries, 0 to 25191\n",
      "Data columns (total 42 columns):\n",
      " #   Column                       Non-Null Count  Dtype  \n",
      "---  ------                       --------------  -----  \n",
      " 0   duration                     25192 non-null  int64  \n",
      " 1   protocol_type                25192 non-null  object \n",
      " 2   service                      25192 non-null  object \n",
      " 3   flag                         25192 non-null  object \n",
      " 4   src_bytes                    25192 non-null  int64  \n",
      " 5   dst_bytes                    25192 non-null  int64  \n",
      " 6   land                         25192 non-null  int64  \n",
      " 7   wrong_fragment               25192 non-null  int64  \n",
      " 8   urgent                       25192 non-null  int64  \n",
      " 9   hot                          25192 non-null  int64  \n",
      " 10  num_failed_logins            25192 non-null  int64  \n",
      " 11  logged_in                    25192 non-null  int64  \n",
      " 12  num_compromised              25192 non-null  int64  \n",
      " 13  root_shell                   25192 non-null  int64  \n",
      " 14  su_attempted                 25192 non-null  int64  \n",
      " 15  num_root                     25192 non-null  int64  \n",
      " 16  num_file_creations           25192 non-null  int64  \n",
      " 17  num_shells                   25192 non-null  int64  \n",
      " 18  num_access_files             25192 non-null  int64  \n",
      " 19  num_outbound_cmds            25192 non-null  int64  \n",
      " 20  is_host_login                25192 non-null  int64  \n",
      " 21  is_guest_login               25192 non-null  int64  \n",
      " 22  count                        25192 non-null  int64  \n",
      " 23  srv_count                    25192 non-null  int64  \n",
      " 24  serror_rate                  25192 non-null  float64\n",
      " 25  srv_serror_rate              25192 non-null  float64\n",
      " 26  rerror_rate                  25192 non-null  float64\n",
      " 27  srv_rerror_rate              25192 non-null  float64\n",
      " 28  same_srv_rate                25192 non-null  float64\n",
      " 29  diff_srv_rate                25192 non-null  float64\n",
      " 30  srv_diff_host_rate           25192 non-null  float64\n",
      " 31  dst_host_count               25192 non-null  int64  \n",
      " 32  dst_host_srv_count           25192 non-null  int64  \n",
      " 33  dst_host_same_srv_rate       25192 non-null  float64\n",
      " 34  dst_host_diff_srv_rate       25192 non-null  float64\n",
      " 35  dst_host_same_src_port_rate  25192 non-null  float64\n",
      " 36  dst_host_srv_diff_host_rate  25192 non-null  float64\n",
      " 37  dst_host_serror_rate         25192 non-null  float64\n",
      " 38  dst_host_srv_serror_rate     25192 non-null  float64\n",
      " 39  dst_host_rerror_rate         25192 non-null  float64\n",
      " 40  dst_host_srv_rerror_rate     25192 non-null  float64\n",
      " 41  class                        25192 non-null  object \n",
      "dtypes: float64(15), int64(23), object(4)\n",
      "memory usage: 8.1+ MB\n"
     ]
    }
   ],
   "source": [
    "ds.head()\n",
    "ds.shape\n",
    "ds['class'].value_counts()\n",
    "ds.info()"
   ]
  },
  {
   "cell_type": "code",
   "execution_count": 4,
   "id": "4a9bfe50",
   "metadata": {
    "execution": {
     "iopub.execute_input": "2023-07-21T11:16:54.143728Z",
     "iopub.status.busy": "2023-07-21T11:16:54.143266Z",
     "iopub.status.idle": "2023-07-21T11:16:54.189292Z",
     "shell.execute_reply": "2023-07-21T11:16:54.187819Z"
    },
    "papermill": {
     "duration": 0.061862,
     "end_time": "2023-07-21T11:16:54.192168",
     "exception": false,
     "start_time": "2023-07-21T11:16:54.130306",
     "status": "completed"
    },
    "tags": []
   },
   "outputs": [
    {
     "data": {
      "text/plain": [
       "duration                       0\n",
       "protocol_type                  0\n",
       "service                        0\n",
       "flag                           0\n",
       "src_bytes                      0\n",
       "dst_bytes                      0\n",
       "land                           0\n",
       "wrong_fragment                 0\n",
       "urgent                         0\n",
       "hot                            0\n",
       "num_failed_logins              0\n",
       "logged_in                      0\n",
       "num_compromised                0\n",
       "root_shell                     0\n",
       "su_attempted                   0\n",
       "num_root                       0\n",
       "num_file_creations             0\n",
       "num_shells                     0\n",
       "num_access_files               0\n",
       "num_outbound_cmds              0\n",
       "is_host_login                  0\n",
       "is_guest_login                 0\n",
       "count                          0\n",
       "srv_count                      0\n",
       "serror_rate                    0\n",
       "srv_serror_rate                0\n",
       "rerror_rate                    0\n",
       "srv_rerror_rate                0\n",
       "same_srv_rate                  0\n",
       "diff_srv_rate                  0\n",
       "srv_diff_host_rate             0\n",
       "dst_host_count                 0\n",
       "dst_host_srv_count             0\n",
       "dst_host_same_srv_rate         0\n",
       "dst_host_diff_srv_rate         0\n",
       "dst_host_same_src_port_rate    0\n",
       "dst_host_srv_diff_host_rate    0\n",
       "dst_host_serror_rate           0\n",
       "dst_host_srv_serror_rate       0\n",
       "dst_host_rerror_rate           0\n",
       "dst_host_srv_rerror_rate       0\n",
       "class                          0\n",
       "dtype: int64"
      ]
     },
     "execution_count": 4,
     "metadata": {},
     "output_type": "execute_result"
    }
   ],
   "source": [
    "ds.isnull().sum()"
   ]
  },
  {
   "cell_type": "code",
   "execution_count": 5,
   "id": "e79eab3a",
   "metadata": {
    "execution": {
     "iopub.execute_input": "2023-07-21T11:16:54.217342Z",
     "iopub.status.busy": "2023-07-21T11:16:54.216886Z",
     "iopub.status.idle": "2023-07-21T11:16:54.267024Z",
     "shell.execute_reply": "2023-07-21T11:16:54.265353Z"
    },
    "papermill": {
     "duration": 0.065706,
     "end_time": "2023-07-21T11:16:54.269579",
     "exception": false,
     "start_time": "2023-07-21T11:16:54.203873",
     "status": "completed"
    },
    "tags": []
   },
   "outputs": [
    {
     "name": "stdout",
     "output_type": "stream",
     "text": [
      "(25192, 42)\n",
      "(25192, 42)\n"
     ]
    }
   ],
   "source": [
    "print(ds.shape)\n",
    "ds.drop_duplicates()\n",
    "print(ds.shape)\n",
    "# no duplicates found\n"
   ]
  },
  {
   "cell_type": "code",
   "execution_count": 6,
   "id": "79263bc6",
   "metadata": {
    "execution": {
     "iopub.execute_input": "2023-07-21T11:16:54.294934Z",
     "iopub.status.busy": "2023-07-21T11:16:54.294400Z",
     "iopub.status.idle": "2023-07-21T11:16:56.636736Z",
     "shell.execute_reply": "2023-07-21T11:16:56.635209Z"
    },
    "papermill": {
     "duration": 2.358634,
     "end_time": "2023-07-21T11:16:56.639771",
     "exception": false,
     "start_time": "2023-07-21T11:16:54.281137",
     "status": "completed"
    },
    "tags": []
   },
   "outputs": [],
   "source": [
    "from sklearn.preprocessing import LabelEncoder\n",
    "from category_encoders import TargetEncoder\n",
    "from pandas.api.types import is_numeric_dtype\n",
    "\n",
    "te = TargetEncoder()\n",
    "le = LabelEncoder()\n",
    "\n",
    "ds['class'] = le.fit_transform(ds['class'])\n",
    "for col in ds.columns:\n",
    "    if col != 'class' and not is_numeric_dtype(ds[col]):\n",
    "        ds[col] = te.fit_transform(ds[col],ds['class'])"
   ]
  },
  {
   "cell_type": "code",
   "execution_count": 7,
   "id": "9354b529",
   "metadata": {
    "execution": {
     "iopub.execute_input": "2023-07-21T11:16:56.665288Z",
     "iopub.status.busy": "2023-07-21T11:16:56.664779Z",
     "iopub.status.idle": "2023-07-21T11:16:57.420973Z",
     "shell.execute_reply": "2023-07-21T11:16:57.419973Z"
    },
    "papermill": {
     "duration": 0.772297,
     "end_time": "2023-07-21T11:16:57.423759",
     "exception": false,
     "start_time": "2023-07-21T11:16:56.651462",
     "status": "completed"
    },
    "tags": []
   },
   "outputs": [],
   "source": [
    "ds.sample(4)\n",
    "ids = ds.to_csv('ids.csv')"
   ]
  },
  {
   "cell_type": "markdown",
   "id": "0686d1dd",
   "metadata": {
    "papermill": {
     "duration": 0.011119,
     "end_time": "2023-07-21T11:16:57.446529",
     "exception": false,
     "start_time": "2023-07-21T11:16:57.435410",
     "status": "completed"
    },
    "tags": []
   },
   "source": [
    "standard scaler does mean centering of the data"
   ]
  },
  {
   "cell_type": "code",
   "execution_count": 8,
   "id": "757db2c9",
   "metadata": {
    "execution": {
     "iopub.execute_input": "2023-07-21T11:16:57.471992Z",
     "iopub.status.busy": "2023-07-21T11:16:57.471471Z",
     "iopub.status.idle": "2023-07-21T11:16:57.477748Z",
     "shell.execute_reply": "2023-07-21T11:16:57.476682Z"
    },
    "papermill": {
     "duration": 0.022119,
     "end_time": "2023-07-21T11:16:57.480126",
     "exception": false,
     "start_time": "2023-07-21T11:16:57.458007",
     "status": "completed"
    },
    "tags": []
   },
   "outputs": [
    {
     "name": "stdout",
     "output_type": "stream",
     "text": [
      "0.1187694506192442\n"
     ]
    }
   ],
   "source": [
    "#for col in ds.columns:\n",
    "#    print(np.mean(ds[col]))\n",
    "    \n",
    "print(np.mean(ds['dst_host_srv_rerror_rate']))"
   ]
  },
  {
   "cell_type": "code",
   "execution_count": 9,
   "id": "4c882978",
   "metadata": {
    "execution": {
     "iopub.execute_input": "2023-07-21T11:16:57.506742Z",
     "iopub.status.busy": "2023-07-21T11:16:57.505666Z",
     "iopub.status.idle": "2023-07-21T11:16:57.552746Z",
     "shell.execute_reply": "2023-07-21T11:16:57.551472Z"
    },
    "papermill": {
     "duration": 0.063525,
     "end_time": "2023-07-21T11:16:57.555727",
     "exception": false,
     "start_time": "2023-07-21T11:16:57.492202",
     "status": "completed"
    },
    "tags": []
   },
   "outputs": [
    {
     "data": {
      "text/html": [
       "<div>\n",
       "<style scoped>\n",
       "    .dataframe tbody tr th:only-of-type {\n",
       "        vertical-align: middle;\n",
       "    }\n",
       "\n",
       "    .dataframe tbody tr th {\n",
       "        vertical-align: top;\n",
       "    }\n",
       "\n",
       "    .dataframe thead th {\n",
       "        text-align: right;\n",
       "    }\n",
       "</style>\n",
       "<table border=\"1\" class=\"dataframe\">\n",
       "  <thead>\n",
       "    <tr style=\"text-align: right;\">\n",
       "      <th></th>\n",
       "      <th>duration</th>\n",
       "      <th>protocol_type</th>\n",
       "      <th>service</th>\n",
       "      <th>flag</th>\n",
       "      <th>src_bytes</th>\n",
       "      <th>dst_bytes</th>\n",
       "      <th>land</th>\n",
       "      <th>wrong_fragment</th>\n",
       "      <th>urgent</th>\n",
       "      <th>hot</th>\n",
       "      <th>...</th>\n",
       "      <th>dst_host_srv_count</th>\n",
       "      <th>dst_host_same_srv_rate</th>\n",
       "      <th>dst_host_diff_srv_rate</th>\n",
       "      <th>dst_host_same_src_port_rate</th>\n",
       "      <th>dst_host_srv_diff_host_rate</th>\n",
       "      <th>dst_host_serror_rate</th>\n",
       "      <th>dst_host_srv_serror_rate</th>\n",
       "      <th>dst_host_rerror_rate</th>\n",
       "      <th>dst_host_srv_rerror_rate</th>\n",
       "      <th>class</th>\n",
       "    </tr>\n",
       "  </thead>\n",
       "  <tbody>\n",
       "    <tr>\n",
       "      <th>19009</th>\n",
       "      <td>5</td>\n",
       "      <td>0.520364</td>\n",
       "      <td>0.959282</td>\n",
       "      <td>0.845722</td>\n",
       "      <td>11556</td>\n",
       "      <td>1383</td>\n",
       "      <td>0</td>\n",
       "      <td>0</td>\n",
       "      <td>0</td>\n",
       "      <td>0</td>\n",
       "      <td>...</td>\n",
       "      <td>164</td>\n",
       "      <td>0.81</td>\n",
       "      <td>0.06</td>\n",
       "      <td>0.02</td>\n",
       "      <td>0.01</td>\n",
       "      <td>0.0</td>\n",
       "      <td>0.0</td>\n",
       "      <td>0.00</td>\n",
       "      <td>0.00</td>\n",
       "      <td>1</td>\n",
       "    </tr>\n",
       "    <tr>\n",
       "      <th>4348</th>\n",
       "      <td>0</td>\n",
       "      <td>0.520364</td>\n",
       "      <td>0.945146</td>\n",
       "      <td>0.845722</td>\n",
       "      <td>204</td>\n",
       "      <td>2674</td>\n",
       "      <td>0</td>\n",
       "      <td>0</td>\n",
       "      <td>0</td>\n",
       "      <td>0</td>\n",
       "      <td>...</td>\n",
       "      <td>255</td>\n",
       "      <td>1.00</td>\n",
       "      <td>0.00</td>\n",
       "      <td>0.00</td>\n",
       "      <td>0.00</td>\n",
       "      <td>0.0</td>\n",
       "      <td>0.0</td>\n",
       "      <td>0.00</td>\n",
       "      <td>0.00</td>\n",
       "      <td>1</td>\n",
       "    </tr>\n",
       "    <tr>\n",
       "      <th>23094</th>\n",
       "      <td>0</td>\n",
       "      <td>0.520364</td>\n",
       "      <td>0.945146</td>\n",
       "      <td>0.845722</td>\n",
       "      <td>155</td>\n",
       "      <td>4187</td>\n",
       "      <td>0</td>\n",
       "      <td>0</td>\n",
       "      <td>0</td>\n",
       "      <td>0</td>\n",
       "      <td>...</td>\n",
       "      <td>184</td>\n",
       "      <td>1.00</td>\n",
       "      <td>0.00</td>\n",
       "      <td>0.01</td>\n",
       "      <td>0.00</td>\n",
       "      <td>0.0</td>\n",
       "      <td>0.0</td>\n",
       "      <td>0.01</td>\n",
       "      <td>0.01</td>\n",
       "      <td>1</td>\n",
       "    </tr>\n",
       "    <tr>\n",
       "      <th>21184</th>\n",
       "      <td>0</td>\n",
       "      <td>0.520364</td>\n",
       "      <td>0.011682</td>\n",
       "      <td>0.011414</td>\n",
       "      <td>0</td>\n",
       "      <td>0</td>\n",
       "      <td>0</td>\n",
       "      <td>0</td>\n",
       "      <td>0</td>\n",
       "      <td>0</td>\n",
       "      <td>...</td>\n",
       "      <td>12</td>\n",
       "      <td>0.05</td>\n",
       "      <td>0.06</td>\n",
       "      <td>0.00</td>\n",
       "      <td>0.00</td>\n",
       "      <td>1.0</td>\n",
       "      <td>1.0</td>\n",
       "      <td>0.00</td>\n",
       "      <td>0.00</td>\n",
       "      <td>0</td>\n",
       "    </tr>\n",
       "    <tr>\n",
       "      <th>15624</th>\n",
       "      <td>0</td>\n",
       "      <td>0.520364</td>\n",
       "      <td>0.945146</td>\n",
       "      <td>0.845722</td>\n",
       "      <td>316</td>\n",
       "      <td>4061</td>\n",
       "      <td>0</td>\n",
       "      <td>0</td>\n",
       "      <td>0</td>\n",
       "      <td>0</td>\n",
       "      <td>...</td>\n",
       "      <td>255</td>\n",
       "      <td>1.00</td>\n",
       "      <td>0.00</td>\n",
       "      <td>0.00</td>\n",
       "      <td>0.00</td>\n",
       "      <td>0.0</td>\n",
       "      <td>0.0</td>\n",
       "      <td>0.00</td>\n",
       "      <td>0.00</td>\n",
       "      <td>1</td>\n",
       "    </tr>\n",
       "    <tr>\n",
       "      <th>17663</th>\n",
       "      <td>0</td>\n",
       "      <td>0.520364</td>\n",
       "      <td>0.945146</td>\n",
       "      <td>0.845722</td>\n",
       "      <td>284</td>\n",
       "      <td>7195</td>\n",
       "      <td>0</td>\n",
       "      <td>0</td>\n",
       "      <td>0</td>\n",
       "      <td>0</td>\n",
       "      <td>...</td>\n",
       "      <td>255</td>\n",
       "      <td>1.00</td>\n",
       "      <td>0.00</td>\n",
       "      <td>0.10</td>\n",
       "      <td>0.04</td>\n",
       "      <td>0.0</td>\n",
       "      <td>0.0</td>\n",
       "      <td>0.00</td>\n",
       "      <td>0.00</td>\n",
       "      <td>1</td>\n",
       "    </tr>\n",
       "  </tbody>\n",
       "</table>\n",
       "<p>6 rows × 42 columns</p>\n",
       "</div>"
      ],
      "text/plain": [
       "       duration  protocol_type   service      flag  src_bytes  dst_bytes  \\\n",
       "19009         5       0.520364  0.959282  0.845722      11556       1383   \n",
       "4348          0       0.520364  0.945146  0.845722        204       2674   \n",
       "23094         0       0.520364  0.945146  0.845722        155       4187   \n",
       "21184         0       0.520364  0.011682  0.011414          0          0   \n",
       "15624         0       0.520364  0.945146  0.845722        316       4061   \n",
       "17663         0       0.520364  0.945146  0.845722        284       7195   \n",
       "\n",
       "       land  wrong_fragment  urgent  hot  ...  dst_host_srv_count  \\\n",
       "19009     0               0       0    0  ...                 164   \n",
       "4348      0               0       0    0  ...                 255   \n",
       "23094     0               0       0    0  ...                 184   \n",
       "21184     0               0       0    0  ...                  12   \n",
       "15624     0               0       0    0  ...                 255   \n",
       "17663     0               0       0    0  ...                 255   \n",
       "\n",
       "       dst_host_same_srv_rate  dst_host_diff_srv_rate  \\\n",
       "19009                    0.81                    0.06   \n",
       "4348                     1.00                    0.00   \n",
       "23094                    1.00                    0.00   \n",
       "21184                    0.05                    0.06   \n",
       "15624                    1.00                    0.00   \n",
       "17663                    1.00                    0.00   \n",
       "\n",
       "       dst_host_same_src_port_rate  dst_host_srv_diff_host_rate  \\\n",
       "19009                         0.02                         0.01   \n",
       "4348                          0.00                         0.00   \n",
       "23094                         0.01                         0.00   \n",
       "21184                         0.00                         0.00   \n",
       "15624                         0.00                         0.00   \n",
       "17663                         0.10                         0.04   \n",
       "\n",
       "       dst_host_serror_rate  dst_host_srv_serror_rate  dst_host_rerror_rate  \\\n",
       "19009                   0.0                       0.0                  0.00   \n",
       "4348                    0.0                       0.0                  0.00   \n",
       "23094                   0.0                       0.0                  0.01   \n",
       "21184                   1.0                       1.0                  0.00   \n",
       "15624                   0.0                       0.0                  0.00   \n",
       "17663                   0.0                       0.0                  0.00   \n",
       "\n",
       "       dst_host_srv_rerror_rate  class  \n",
       "19009                      0.00      1  \n",
       "4348                       0.00      1  \n",
       "23094                      0.01      1  \n",
       "21184                      0.00      0  \n",
       "15624                      0.00      1  \n",
       "17663                      0.00      1  \n",
       "\n",
       "[6 rows x 42 columns]"
      ]
     },
     "execution_count": 9,
     "metadata": {},
     "output_type": "execute_result"
    }
   ],
   "source": [
    "ds.sample(6)"
   ]
  },
  {
   "cell_type": "code",
   "execution_count": 10,
   "id": "6f0ab139",
   "metadata": {
    "execution": {
     "iopub.execute_input": "2023-07-21T11:16:57.583610Z",
     "iopub.status.busy": "2023-07-21T11:16:57.582697Z",
     "iopub.status.idle": "2023-07-21T11:16:57.592556Z",
     "shell.execute_reply": "2023-07-21T11:16:57.591005Z"
    },
    "papermill": {
     "duration": 0.027086,
     "end_time": "2023-07-21T11:16:57.595460",
     "exception": false,
     "start_time": "2023-07-21T11:16:57.568374",
     "status": "completed"
    },
    "tags": []
   },
   "outputs": [
    {
     "data": {
      "text/plain": [
       "0      2\n",
       "1     13\n",
       "2    123\n",
       "3      5\n",
       "4     30\n",
       "Name: count, dtype: int64"
      ]
     },
     "execution_count": 10,
     "metadata": {},
     "output_type": "execute_result"
    }
   ],
   "source": [
    "ds.head()\n",
    "ds['count'].head()"
   ]
  },
  {
   "cell_type": "code",
   "execution_count": 11,
   "id": "9af425dd",
   "metadata": {
    "execution": {
     "iopub.execute_input": "2023-07-21T11:16:57.627332Z",
     "iopub.status.busy": "2023-07-21T11:16:57.626883Z",
     "iopub.status.idle": "2023-07-21T11:16:57.634684Z",
     "shell.execute_reply": "2023-07-21T11:16:57.633817Z"
    },
    "papermill": {
     "duration": 0.025528,
     "end_time": "2023-07-21T11:16:57.637048",
     "exception": false,
     "start_time": "2023-07-21T11:16:57.611520",
     "status": "completed"
    },
    "tags": []
   },
   "outputs": [
    {
     "data": {
      "text/plain": [
       "Index(['duration', 'protocol_type', 'service', 'flag', 'src_bytes',\n",
       "       'dst_bytes', 'land', 'wrong_fragment', 'urgent', 'hot',\n",
       "       'num_failed_logins', 'logged_in', 'num_compromised', 'root_shell',\n",
       "       'su_attempted', 'num_root', 'num_file_creations', 'num_shells',\n",
       "       'num_access_files', 'num_outbound_cmds', 'is_host_login',\n",
       "       'is_guest_login', 'count', 'srv_count', 'serror_rate',\n",
       "       'srv_serror_rate', 'rerror_rate', 'srv_rerror_rate', 'same_srv_rate',\n",
       "       'diff_srv_rate', 'srv_diff_host_rate', 'dst_host_count',\n",
       "       'dst_host_srv_count', 'dst_host_same_srv_rate',\n",
       "       'dst_host_diff_srv_rate', 'dst_host_same_src_port_rate',\n",
       "       'dst_host_srv_diff_host_rate', 'dst_host_serror_rate',\n",
       "       'dst_host_srv_serror_rate', 'dst_host_rerror_rate',\n",
       "       'dst_host_srv_rerror_rate', 'class'],\n",
       "      dtype='object')"
      ]
     },
     "execution_count": 11,
     "metadata": {},
     "output_type": "execute_result"
    }
   ],
   "source": [
    "ds.columns"
   ]
  },
  {
   "cell_type": "code",
   "execution_count": 12,
   "id": "43c00686",
   "metadata": {
    "execution": {
     "iopub.execute_input": "2023-07-21T11:16:57.664748Z",
     "iopub.status.busy": "2023-07-21T11:16:57.664345Z",
     "iopub.status.idle": "2023-07-21T11:16:57.839769Z",
     "shell.execute_reply": "2023-07-21T11:16:57.838562Z"
    },
    "papermill": {
     "duration": 0.193142,
     "end_time": "2023-07-21T11:16:57.842978",
     "exception": false,
     "start_time": "2023-07-21T11:16:57.649836",
     "status": "completed"
    },
    "tags": []
   },
   "outputs": [],
   "source": [
    "from sklearn.model_selection import train_test_split\n",
    "from sklearn.preprocessing import StandardScaler\n",
    "\n",
    "X = ds.drop('class',axis=1)\n",
    "y = ds['class']\n",
    "\n",
    "X_train,X_test,y_train,y_test = train_test_split(X,y,test_size=0.3,random_state=1)\n",
    "\n",
    "ss = StandardScaler()\n",
    "X_train = ss.fit_transform(X_train)\n",
    "X_test = ss.transform(X_test)"
   ]
  },
  {
   "cell_type": "code",
   "execution_count": 13,
   "id": "6ece63c1",
   "metadata": {
    "execution": {
     "iopub.execute_input": "2023-07-21T11:16:57.871345Z",
     "iopub.status.busy": "2023-07-21T11:16:57.870900Z",
     "iopub.status.idle": "2023-07-21T11:16:58.349504Z",
     "shell.execute_reply": "2023-07-21T11:16:58.348300Z"
    },
    "papermill": {
     "duration": 0.500161,
     "end_time": "2023-07-21T11:16:58.356164",
     "exception": false,
     "start_time": "2023-07-21T11:16:57.856003",
     "status": "completed"
    },
    "tags": []
   },
   "outputs": [
    {
     "name": "stderr",
     "output_type": "stream",
     "text": [
      "/opt/conda/lib/python3.10/site-packages/sklearn/linear_model/_logistic.py:458: ConvergenceWarning: lbfgs failed to converge (status=1):\n",
      "STOP: TOTAL NO. of ITERATIONS REACHED LIMIT.\n",
      "\n",
      "Increase the number of iterations (max_iter) or scale the data as shown in:\n",
      "    https://scikit-learn.org/stable/modules/preprocessing.html\n",
      "Please also refer to the documentation for alternative solver options:\n",
      "    https://scikit-learn.org/stable/modules/linear_model.html#logistic-regression\n",
      "  n_iter_i = _check_optimize_result(\n"
     ]
    },
    {
     "data": {
      "text/html": [
       "<style>#sk-container-id-1 {color: black;background-color: white;}#sk-container-id-1 pre{padding: 0;}#sk-container-id-1 div.sk-toggleable {background-color: white;}#sk-container-id-1 label.sk-toggleable__label {cursor: pointer;display: block;width: 100%;margin-bottom: 0;padding: 0.3em;box-sizing: border-box;text-align: center;}#sk-container-id-1 label.sk-toggleable__label-arrow:before {content: \"▸\";float: left;margin-right: 0.25em;color: #696969;}#sk-container-id-1 label.sk-toggleable__label-arrow:hover:before {color: black;}#sk-container-id-1 div.sk-estimator:hover label.sk-toggleable__label-arrow:before {color: black;}#sk-container-id-1 div.sk-toggleable__content {max-height: 0;max-width: 0;overflow: hidden;text-align: left;background-color: #f0f8ff;}#sk-container-id-1 div.sk-toggleable__content pre {margin: 0.2em;color: black;border-radius: 0.25em;background-color: #f0f8ff;}#sk-container-id-1 input.sk-toggleable__control:checked~div.sk-toggleable__content {max-height: 200px;max-width: 100%;overflow: auto;}#sk-container-id-1 input.sk-toggleable__control:checked~label.sk-toggleable__label-arrow:before {content: \"▾\";}#sk-container-id-1 div.sk-estimator input.sk-toggleable__control:checked~label.sk-toggleable__label {background-color: #d4ebff;}#sk-container-id-1 div.sk-label input.sk-toggleable__control:checked~label.sk-toggleable__label {background-color: #d4ebff;}#sk-container-id-1 input.sk-hidden--visually {border: 0;clip: rect(1px 1px 1px 1px);clip: rect(1px, 1px, 1px, 1px);height: 1px;margin: -1px;overflow: hidden;padding: 0;position: absolute;width: 1px;}#sk-container-id-1 div.sk-estimator {font-family: monospace;background-color: #f0f8ff;border: 1px dotted black;border-radius: 0.25em;box-sizing: border-box;margin-bottom: 0.5em;}#sk-container-id-1 div.sk-estimator:hover {background-color: #d4ebff;}#sk-container-id-1 div.sk-parallel-item::after {content: \"\";width: 100%;border-bottom: 1px solid gray;flex-grow: 1;}#sk-container-id-1 div.sk-label:hover label.sk-toggleable__label {background-color: #d4ebff;}#sk-container-id-1 div.sk-serial::before {content: \"\";position: absolute;border-left: 1px solid gray;box-sizing: border-box;top: 0;bottom: 0;left: 50%;z-index: 0;}#sk-container-id-1 div.sk-serial {display: flex;flex-direction: column;align-items: center;background-color: white;padding-right: 0.2em;padding-left: 0.2em;position: relative;}#sk-container-id-1 div.sk-item {position: relative;z-index: 1;}#sk-container-id-1 div.sk-parallel {display: flex;align-items: stretch;justify-content: center;background-color: white;position: relative;}#sk-container-id-1 div.sk-item::before, #sk-container-id-1 div.sk-parallel-item::before {content: \"\";position: absolute;border-left: 1px solid gray;box-sizing: border-box;top: 0;bottom: 0;left: 50%;z-index: -1;}#sk-container-id-1 div.sk-parallel-item {display: flex;flex-direction: column;z-index: 1;position: relative;background-color: white;}#sk-container-id-1 div.sk-parallel-item:first-child::after {align-self: flex-end;width: 50%;}#sk-container-id-1 div.sk-parallel-item:last-child::after {align-self: flex-start;width: 50%;}#sk-container-id-1 div.sk-parallel-item:only-child::after {width: 0;}#sk-container-id-1 div.sk-dashed-wrapped {border: 1px dashed gray;margin: 0 0.4em 0.5em 0.4em;box-sizing: border-box;padding-bottom: 0.4em;background-color: white;}#sk-container-id-1 div.sk-label label {font-family: monospace;font-weight: bold;display: inline-block;line-height: 1.2em;}#sk-container-id-1 div.sk-label-container {text-align: center;}#sk-container-id-1 div.sk-container {/* jupyter's `normalize.less` sets `[hidden] { display: none; }` but bootstrap.min.css set `[hidden] { display: none !important; }` so we also need the `!important` here to be able to override the default hidden behavior on the sphinx rendered scikit-learn.org. See: https://github.com/scikit-learn/scikit-learn/issues/21755 */display: inline-block !important;position: relative;}#sk-container-id-1 div.sk-text-repr-fallback {display: none;}</style><div id=\"sk-container-id-1\" class=\"sk-top-container\"><div class=\"sk-text-repr-fallback\"><pre>LogisticRegression()</pre><b>In a Jupyter environment, please rerun this cell to show the HTML representation or trust the notebook. <br />On GitHub, the HTML representation is unable to render, please try loading this page with nbviewer.org.</b></div><div class=\"sk-container\" hidden><div class=\"sk-item\"><div class=\"sk-estimator sk-toggleable\"><input class=\"sk-toggleable__control sk-hidden--visually\" id=\"sk-estimator-id-1\" type=\"checkbox\" checked><label for=\"sk-estimator-id-1\" class=\"sk-toggleable__label sk-toggleable__label-arrow\">LogisticRegression</label><div class=\"sk-toggleable__content\"><pre>LogisticRegression()</pre></div></div></div></div></div>"
      ],
      "text/plain": [
       "LogisticRegression()"
      ]
     },
     "execution_count": 13,
     "metadata": {},
     "output_type": "execute_result"
    }
   ],
   "source": [
    "from sklearn.linear_model import LogisticRegression\n",
    "lor = LogisticRegression()\n",
    "\n",
    "lor.fit(X_train,y_train)\n"
   ]
  },
  {
   "cell_type": "code",
   "execution_count": 14,
   "id": "8235f38a",
   "metadata": {
    "execution": {
     "iopub.execute_input": "2023-07-21T11:16:58.419129Z",
     "iopub.status.busy": "2023-07-21T11:16:58.418311Z",
     "iopub.status.idle": "2023-07-21T11:16:58.432451Z",
     "shell.execute_reply": "2023-07-21T11:16:58.430879Z"
    },
    "papermill": {
     "duration": 0.053555,
     "end_time": "2023-07-21T11:16:58.437265",
     "exception": false,
     "start_time": "2023-07-21T11:16:58.383710",
     "status": "completed"
    },
    "tags": []
   },
   "outputs": [],
   "source": [
    "y_pred = lor.predict(X_test)\n",
    "ypr = y_pred.copy()\n"
   ]
  },
  {
   "cell_type": "code",
   "execution_count": 15,
   "id": "77202ab8",
   "metadata": {
    "execution": {
     "iopub.execute_input": "2023-07-21T11:16:58.495701Z",
     "iopub.status.busy": "2023-07-21T11:16:58.494959Z",
     "iopub.status.idle": "2023-07-21T11:16:58.503334Z",
     "shell.execute_reply": "2023-07-21T11:16:58.501711Z"
    },
    "papermill": {
     "duration": 0.04588,
     "end_time": "2023-07-21T11:16:58.511462",
     "exception": false,
     "start_time": "2023-07-21T11:16:58.465582",
     "status": "completed"
    },
    "tags": []
   },
   "outputs": [],
   "source": [
    "ypr = pd.DataFrame(ypr)\n"
   ]
  },
  {
   "cell_type": "code",
   "execution_count": 16,
   "id": "e0bda745",
   "metadata": {
    "execution": {
     "iopub.execute_input": "2023-07-21T11:16:58.559790Z",
     "iopub.status.busy": "2023-07-21T11:16:58.559291Z",
     "iopub.status.idle": "2023-07-21T11:16:58.569791Z",
     "shell.execute_reply": "2023-07-21T11:16:58.568672Z"
    },
    "papermill": {
     "duration": 0.033761,
     "end_time": "2023-07-21T11:16:58.572758",
     "exception": false,
     "start_time": "2023-07-21T11:16:58.538997",
     "status": "completed"
    },
    "tags": []
   },
   "outputs": [
    {
     "data": {
      "text/html": [
       "<div>\n",
       "<style scoped>\n",
       "    .dataframe tbody tr th:only-of-type {\n",
       "        vertical-align: middle;\n",
       "    }\n",
       "\n",
       "    .dataframe tbody tr th {\n",
       "        vertical-align: top;\n",
       "    }\n",
       "\n",
       "    .dataframe thead th {\n",
       "        text-align: right;\n",
       "    }\n",
       "</style>\n",
       "<table border=\"1\" class=\"dataframe\">\n",
       "  <thead>\n",
       "    <tr style=\"text-align: right;\">\n",
       "      <th></th>\n",
       "      <th>0</th>\n",
       "    </tr>\n",
       "  </thead>\n",
       "  <tbody>\n",
       "    <tr>\n",
       "      <th>0</th>\n",
       "      <td>0</td>\n",
       "    </tr>\n",
       "    <tr>\n",
       "      <th>1</th>\n",
       "      <td>1</td>\n",
       "    </tr>\n",
       "    <tr>\n",
       "      <th>2</th>\n",
       "      <td>0</td>\n",
       "    </tr>\n",
       "    <tr>\n",
       "      <th>3</th>\n",
       "      <td>1</td>\n",
       "    </tr>\n",
       "    <tr>\n",
       "      <th>4</th>\n",
       "      <td>1</td>\n",
       "    </tr>\n",
       "  </tbody>\n",
       "</table>\n",
       "</div>"
      ],
      "text/plain": [
       "   0\n",
       "0  0\n",
       "1  1\n",
       "2  0\n",
       "3  1\n",
       "4  1"
      ]
     },
     "execution_count": 16,
     "metadata": {},
     "output_type": "execute_result"
    }
   ],
   "source": [
    "ypr.head()"
   ]
  },
  {
   "cell_type": "code",
   "execution_count": 17,
   "id": "bc4d9876",
   "metadata": {
    "execution": {
     "iopub.execute_input": "2023-07-21T11:16:58.602008Z",
     "iopub.status.busy": "2023-07-21T11:16:58.601543Z",
     "iopub.status.idle": "2023-07-21T11:16:58.628926Z",
     "shell.execute_reply": "2023-07-21T11:16:58.627467Z"
    },
    "papermill": {
     "duration": 0.045992,
     "end_time": "2023-07-21T11:16:58.631965",
     "exception": false,
     "start_time": "2023-07-21T11:16:58.585973",
     "status": "completed"
    },
    "tags": []
   },
   "outputs": [],
   "source": [
    "yprr = ypr.to_csv('yprr.csv')"
   ]
  },
  {
   "cell_type": "code",
   "execution_count": 18,
   "id": "d67210fb",
   "metadata": {
    "execution": {
     "iopub.execute_input": "2023-07-21T11:16:58.660883Z",
     "iopub.status.busy": "2023-07-21T11:16:58.660429Z",
     "iopub.status.idle": "2023-07-21T11:16:58.686620Z",
     "shell.execute_reply": "2023-07-21T11:16:58.685345Z"
    },
    "papermill": {
     "duration": 0.043857,
     "end_time": "2023-07-21T11:16:58.689191",
     "exception": false,
     "start_time": "2023-07-21T11:16:58.645334",
     "status": "completed"
    },
    "tags": []
   },
   "outputs": [
    {
     "name": "stdout",
     "output_type": "stream",
     "text": [
      "              precision    recall  f1-score   support\n",
      "\n",
      "           0       0.96      0.98      0.97      3434\n",
      "           1       0.98      0.96      0.97      4124\n",
      "\n",
      "    accuracy                           0.97      7558\n",
      "   macro avg       0.97      0.97      0.97      7558\n",
      "weighted avg       0.97      0.97      0.97      7558\n",
      "\n"
     ]
    }
   ],
   "source": [
    "from sklearn.metrics import classification_report \n",
    "print(classification_report(y_pred,y_test))"
   ]
  },
  {
   "cell_type": "code",
   "execution_count": 19,
   "id": "3c5c36f0",
   "metadata": {
    "execution": {
     "iopub.execute_input": "2023-07-21T11:16:58.719276Z",
     "iopub.status.busy": "2023-07-21T11:16:58.717945Z",
     "iopub.status.idle": "2023-07-21T11:16:58.870265Z",
     "shell.execute_reply": "2023-07-21T11:16:58.868975Z"
    },
    "papermill": {
     "duration": 0.170578,
     "end_time": "2023-07-21T11:16:58.873167",
     "exception": false,
     "start_time": "2023-07-21T11:16:58.702589",
     "status": "completed"
    },
    "tags": []
   },
   "outputs": [
    {
     "data": {
      "text/html": [
       "<style>#sk-container-id-2 {color: black;background-color: white;}#sk-container-id-2 pre{padding: 0;}#sk-container-id-2 div.sk-toggleable {background-color: white;}#sk-container-id-2 label.sk-toggleable__label {cursor: pointer;display: block;width: 100%;margin-bottom: 0;padding: 0.3em;box-sizing: border-box;text-align: center;}#sk-container-id-2 label.sk-toggleable__label-arrow:before {content: \"▸\";float: left;margin-right: 0.25em;color: #696969;}#sk-container-id-2 label.sk-toggleable__label-arrow:hover:before {color: black;}#sk-container-id-2 div.sk-estimator:hover label.sk-toggleable__label-arrow:before {color: black;}#sk-container-id-2 div.sk-toggleable__content {max-height: 0;max-width: 0;overflow: hidden;text-align: left;background-color: #f0f8ff;}#sk-container-id-2 div.sk-toggleable__content pre {margin: 0.2em;color: black;border-radius: 0.25em;background-color: #f0f8ff;}#sk-container-id-2 input.sk-toggleable__control:checked~div.sk-toggleable__content {max-height: 200px;max-width: 100%;overflow: auto;}#sk-container-id-2 input.sk-toggleable__control:checked~label.sk-toggleable__label-arrow:before {content: \"▾\";}#sk-container-id-2 div.sk-estimator input.sk-toggleable__control:checked~label.sk-toggleable__label {background-color: #d4ebff;}#sk-container-id-2 div.sk-label input.sk-toggleable__control:checked~label.sk-toggleable__label {background-color: #d4ebff;}#sk-container-id-2 input.sk-hidden--visually {border: 0;clip: rect(1px 1px 1px 1px);clip: rect(1px, 1px, 1px, 1px);height: 1px;margin: -1px;overflow: hidden;padding: 0;position: absolute;width: 1px;}#sk-container-id-2 div.sk-estimator {font-family: monospace;background-color: #f0f8ff;border: 1px dotted black;border-radius: 0.25em;box-sizing: border-box;margin-bottom: 0.5em;}#sk-container-id-2 div.sk-estimator:hover {background-color: #d4ebff;}#sk-container-id-2 div.sk-parallel-item::after {content: \"\";width: 100%;border-bottom: 1px solid gray;flex-grow: 1;}#sk-container-id-2 div.sk-label:hover label.sk-toggleable__label {background-color: #d4ebff;}#sk-container-id-2 div.sk-serial::before {content: \"\";position: absolute;border-left: 1px solid gray;box-sizing: border-box;top: 0;bottom: 0;left: 50%;z-index: 0;}#sk-container-id-2 div.sk-serial {display: flex;flex-direction: column;align-items: center;background-color: white;padding-right: 0.2em;padding-left: 0.2em;position: relative;}#sk-container-id-2 div.sk-item {position: relative;z-index: 1;}#sk-container-id-2 div.sk-parallel {display: flex;align-items: stretch;justify-content: center;background-color: white;position: relative;}#sk-container-id-2 div.sk-item::before, #sk-container-id-2 div.sk-parallel-item::before {content: \"\";position: absolute;border-left: 1px solid gray;box-sizing: border-box;top: 0;bottom: 0;left: 50%;z-index: -1;}#sk-container-id-2 div.sk-parallel-item {display: flex;flex-direction: column;z-index: 1;position: relative;background-color: white;}#sk-container-id-2 div.sk-parallel-item:first-child::after {align-self: flex-end;width: 50%;}#sk-container-id-2 div.sk-parallel-item:last-child::after {align-self: flex-start;width: 50%;}#sk-container-id-2 div.sk-parallel-item:only-child::after {width: 0;}#sk-container-id-2 div.sk-dashed-wrapped {border: 1px dashed gray;margin: 0 0.4em 0.5em 0.4em;box-sizing: border-box;padding-bottom: 0.4em;background-color: white;}#sk-container-id-2 div.sk-label label {font-family: monospace;font-weight: bold;display: inline-block;line-height: 1.2em;}#sk-container-id-2 div.sk-label-container {text-align: center;}#sk-container-id-2 div.sk-container {/* jupyter's `normalize.less` sets `[hidden] { display: none; }` but bootstrap.min.css set `[hidden] { display: none !important; }` so we also need the `!important` here to be able to override the default hidden behavior on the sphinx rendered scikit-learn.org. See: https://github.com/scikit-learn/scikit-learn/issues/21755 */display: inline-block !important;position: relative;}#sk-container-id-2 div.sk-text-repr-fallback {display: none;}</style><div id=\"sk-container-id-2\" class=\"sk-top-container\"><div class=\"sk-text-repr-fallback\"><pre>KNeighborsClassifier()</pre><b>In a Jupyter environment, please rerun this cell to show the HTML representation or trust the notebook. <br />On GitHub, the HTML representation is unable to render, please try loading this page with nbviewer.org.</b></div><div class=\"sk-container\" hidden><div class=\"sk-item\"><div class=\"sk-estimator sk-toggleable\"><input class=\"sk-toggleable__control sk-hidden--visually\" id=\"sk-estimator-id-2\" type=\"checkbox\" checked><label for=\"sk-estimator-id-2\" class=\"sk-toggleable__label sk-toggleable__label-arrow\">KNeighborsClassifier</label><div class=\"sk-toggleable__content\"><pre>KNeighborsClassifier()</pre></div></div></div></div></div>"
      ],
      "text/plain": [
       "KNeighborsClassifier()"
      ]
     },
     "execution_count": 19,
     "metadata": {},
     "output_type": "execute_result"
    }
   ],
   "source": [
    "from sklearn.neighbors import KNeighborsClassifier\n",
    "knn = KNeighborsClassifier()\n",
    "knn.fit(X_train,y_train)"
   ]
  },
  {
   "cell_type": "code",
   "execution_count": 20,
   "id": "f3c0b2b3",
   "metadata": {
    "execution": {
     "iopub.execute_input": "2023-07-21T11:16:58.904718Z",
     "iopub.status.busy": "2023-07-21T11:16:58.904296Z",
     "iopub.status.idle": "2023-07-21T11:16:59.686050Z",
     "shell.execute_reply": "2023-07-21T11:16:59.684871Z"
    },
    "papermill": {
     "duration": 0.801671,
     "end_time": "2023-07-21T11:16:59.689230",
     "exception": false,
     "start_time": "2023-07-21T11:16:58.887559",
     "status": "completed"
    },
    "tags": []
   },
   "outputs": [],
   "source": [
    "y_pred2 = knn.predict(X_test)"
   ]
  },
  {
   "cell_type": "code",
   "execution_count": 21,
   "id": "6418ffc3",
   "metadata": {
    "execution": {
     "iopub.execute_input": "2023-07-21T11:16:59.719546Z",
     "iopub.status.busy": "2023-07-21T11:16:59.719100Z",
     "iopub.status.idle": "2023-07-21T11:16:59.724697Z",
     "shell.execute_reply": "2023-07-21T11:16:59.723413Z"
    },
    "papermill": {
     "duration": 0.023772,
     "end_time": "2023-07-21T11:16:59.727208",
     "exception": false,
     "start_time": "2023-07-21T11:16:59.703436",
     "status": "completed"
    },
    "tags": []
   },
   "outputs": [],
   "source": [
    "ypr2 = pd.DataFrame(y_pred2)"
   ]
  },
  {
   "cell_type": "code",
   "execution_count": 22,
   "id": "48e0fc8a",
   "metadata": {
    "execution": {
     "iopub.execute_input": "2023-07-21T11:16:59.756859Z",
     "iopub.status.busy": "2023-07-21T11:16:59.756402Z",
     "iopub.status.idle": "2023-07-21T11:16:59.783097Z",
     "shell.execute_reply": "2023-07-21T11:16:59.781795Z"
    },
    "papermill": {
     "duration": 0.045022,
     "end_time": "2023-07-21T11:16:59.786110",
     "exception": false,
     "start_time": "2023-07-21T11:16:59.741088",
     "status": "completed"
    },
    "tags": []
   },
   "outputs": [],
   "source": [
    "yprr2 = ypr2.to_csv('yprr2.csv')"
   ]
  },
  {
   "cell_type": "code",
   "execution_count": 23,
   "id": "506c1c78",
   "metadata": {
    "execution": {
     "iopub.execute_input": "2023-07-21T11:16:59.816090Z",
     "iopub.status.busy": "2023-07-21T11:16:59.815597Z",
     "iopub.status.idle": "2023-07-21T11:16:59.843555Z",
     "shell.execute_reply": "2023-07-21T11:16:59.841945Z"
    },
    "papermill": {
     "duration": 0.046569,
     "end_time": "2023-07-21T11:16:59.846281",
     "exception": false,
     "start_time": "2023-07-21T11:16:59.799712",
     "status": "completed"
    },
    "tags": []
   },
   "outputs": [
    {
     "name": "stdout",
     "output_type": "stream",
     "text": [
      "              precision    recall  f1-score   support\n",
      "\n",
      "           0       0.99      0.99      0.99      3499\n",
      "           1       0.99      0.99      0.99      4059\n",
      "\n",
      "    accuracy                           0.99      7558\n",
      "   macro avg       0.99      0.99      0.99      7558\n",
      "weighted avg       0.99      0.99      0.99      7558\n",
      "\n"
     ]
    }
   ],
   "source": [
    "print(classification_report(y_pred2,y_test))"
   ]
  },
  {
   "cell_type": "code",
   "execution_count": 24,
   "id": "73ff59e0",
   "metadata": {
    "execution": {
     "iopub.execute_input": "2023-07-21T11:16:59.875663Z",
     "iopub.status.busy": "2023-07-21T11:16:59.874611Z",
     "iopub.status.idle": "2023-07-21T11:17:10.039879Z",
     "shell.execute_reply": "2023-07-21T11:17:10.038557Z"
    },
    "papermill": {
     "duration": 10.1841,
     "end_time": "2023-07-21T11:17:10.043792",
     "exception": false,
     "start_time": "2023-07-21T11:16:59.859692",
     "status": "completed"
    },
    "tags": []
   },
   "outputs": [
    {
     "name": "stderr",
     "output_type": "stream",
     "text": [
      "/opt/conda/lib/python3.10/site-packages/tensorflow_io/python/ops/__init__.py:98: UserWarning: unable to load libtensorflow_io_plugins.so: unable to open file: libtensorflow_io_plugins.so, from paths: ['/opt/conda/lib/python3.10/site-packages/tensorflow_io/python/ops/libtensorflow_io_plugins.so']\n",
      "caused by: ['/opt/conda/lib/python3.10/site-packages/tensorflow_io/python/ops/libtensorflow_io_plugins.so: undefined symbol: _ZN3tsl6StatusC1EN10tensorflow5error4CodeESt17basic_string_viewIcSt11char_traitsIcEENS_14SourceLocationE']\n",
      "  warnings.warn(f\"unable to load libtensorflow_io_plugins.so: {e}\")\n",
      "/opt/conda/lib/python3.10/site-packages/tensorflow_io/python/ops/__init__.py:104: UserWarning: file system plugins are not loaded: unable to open file: libtensorflow_io.so, from paths: ['/opt/conda/lib/python3.10/site-packages/tensorflow_io/python/ops/libtensorflow_io.so']\n",
      "caused by: ['/opt/conda/lib/python3.10/site-packages/tensorflow_io/python/ops/libtensorflow_io.so: undefined symbol: _ZTVN10tensorflow13GcsFileSystemE']\n",
      "  warnings.warn(f\"file system plugins are not loaded: {e}\")\n"
     ]
    }
   ],
   "source": [
    "import tensorflow as tf\n",
    "from tensorflow import keras"
   ]
  },
  {
   "cell_type": "code",
   "execution_count": 25,
   "id": "a4fd9118",
   "metadata": {
    "execution": {
     "iopub.execute_input": "2023-07-21T11:17:10.074420Z",
     "iopub.status.busy": "2023-07-21T11:17:10.072926Z",
     "iopub.status.idle": "2023-07-21T11:18:07.457240Z",
     "shell.execute_reply": "2023-07-21T11:18:07.456079Z"
    },
    "papermill": {
     "duration": 57.402271,
     "end_time": "2023-07-21T11:18:07.459690",
     "exception": false,
     "start_time": "2023-07-21T11:17:10.057419",
     "status": "completed"
    },
    "tags": []
   },
   "outputs": [
    {
     "name": "stdout",
     "output_type": "stream",
     "text": [
      "Epoch 1/35\n",
      "552/552 [==============================] - 3s 3ms/step - loss: 0.2986 - accuracy: 0.8872 - val_loss: 0.1100 - val_accuracy: 0.9684\n",
      "Epoch 2/35\n",
      "552/552 [==============================] - 2s 4ms/step - loss: 0.1642 - accuracy: 0.9555 - val_loss: 0.0868 - val_accuracy: 0.9720\n",
      "Epoch 3/35\n",
      "552/552 [==============================] - 2s 3ms/step - loss: 0.1309 - accuracy: 0.9629 - val_loss: 0.0729 - val_accuracy: 0.9750\n",
      "Epoch 4/35\n",
      "552/552 [==============================] - 2s 3ms/step - loss: 0.1112 - accuracy: 0.9682 - val_loss: 0.0721 - val_accuracy: 0.9743\n",
      "Epoch 5/35\n",
      "552/552 [==============================] - 1s 3ms/step - loss: 0.0994 - accuracy: 0.9711 - val_loss: 0.0643 - val_accuracy: 0.9761\n",
      "Epoch 6/35\n",
      "552/552 [==============================] - 1s 3ms/step - loss: 0.0907 - accuracy: 0.9714 - val_loss: 0.0648 - val_accuracy: 0.9768\n",
      "Epoch 7/35\n",
      "552/552 [==============================] - 1s 3ms/step - loss: 0.0794 - accuracy: 0.9722 - val_loss: 0.0630 - val_accuracy: 0.9763\n",
      "Epoch 8/35\n",
      "552/552 [==============================] - 2s 3ms/step - loss: 0.0767 - accuracy: 0.9738 - val_loss: 0.0628 - val_accuracy: 0.9767\n",
      "Epoch 9/35\n",
      "552/552 [==============================] - 2s 3ms/step - loss: 0.0765 - accuracy: 0.9736 - val_loss: 0.0612 - val_accuracy: 0.9771\n",
      "Epoch 10/35\n",
      "552/552 [==============================] - 2s 3ms/step - loss: 0.0700 - accuracy: 0.9760 - val_loss: 0.0585 - val_accuracy: 0.9775\n",
      "Epoch 11/35\n",
      "552/552 [==============================] - 2s 3ms/step - loss: 0.0639 - accuracy: 0.9782 - val_loss: 0.0557 - val_accuracy: 0.9836\n",
      "Epoch 12/35\n",
      "552/552 [==============================] - 2s 3ms/step - loss: 0.0611 - accuracy: 0.9788 - val_loss: 0.0570 - val_accuracy: 0.9840\n",
      "Epoch 13/35\n",
      "552/552 [==============================] - 2s 3ms/step - loss: 0.0581 - accuracy: 0.9802 - val_loss: 0.0560 - val_accuracy: 0.9853\n",
      "Epoch 14/35\n",
      "552/552 [==============================] - 2s 3ms/step - loss: 0.0561 - accuracy: 0.9800 - val_loss: 0.0588 - val_accuracy: 0.9860\n",
      "Epoch 15/35\n",
      "552/552 [==============================] - 2s 3ms/step - loss: 0.0567 - accuracy: 0.9807 - val_loss: 0.0568 - val_accuracy: 0.9862\n",
      "Epoch 16/35\n",
      "552/552 [==============================] - 2s 3ms/step - loss: 0.0517 - accuracy: 0.9820 - val_loss: 0.0602 - val_accuracy: 0.9861\n",
      "Epoch 17/35\n",
      "552/552 [==============================] - 2s 3ms/step - loss: 0.0520 - accuracy: 0.9814 - val_loss: 0.0601 - val_accuracy: 0.9868\n",
      "Epoch 18/35\n",
      "552/552 [==============================] - 2s 3ms/step - loss: 0.0514 - accuracy: 0.9821 - val_loss: 0.0604 - val_accuracy: 0.9866\n",
      "Epoch 19/35\n",
      "552/552 [==============================] - 2s 3ms/step - loss: 0.0498 - accuracy: 0.9849 - val_loss: 0.0593 - val_accuracy: 0.9868\n",
      "Epoch 20/35\n",
      "552/552 [==============================] - 2s 3ms/step - loss: 0.0450 - accuracy: 0.9832 - val_loss: 0.0603 - val_accuracy: 0.9857\n",
      "Epoch 21/35\n",
      "552/552 [==============================] - 2s 3ms/step - loss: 0.0476 - accuracy: 0.9826 - val_loss: 0.0653 - val_accuracy: 0.9864\n",
      "Epoch 22/35\n",
      "552/552 [==============================] - 2s 4ms/step - loss: 0.0510 - accuracy: 0.9837 - val_loss: 0.0619 - val_accuracy: 0.9865\n",
      "Epoch 23/35\n",
      "552/552 [==============================] - 2s 3ms/step - loss: 0.0463 - accuracy: 0.9838 - val_loss: 0.0631 - val_accuracy: 0.9877\n",
      "Epoch 24/35\n",
      "552/552 [==============================] - 2s 3ms/step - loss: 0.0491 - accuracy: 0.9843 - val_loss: 0.0645 - val_accuracy: 0.9866\n",
      "Epoch 25/35\n",
      "552/552 [==============================] - 2s 3ms/step - loss: 0.0417 - accuracy: 0.9850 - val_loss: 0.0640 - val_accuracy: 0.9873\n",
      "Epoch 26/35\n",
      "552/552 [==============================] - 2s 3ms/step - loss: 0.0480 - accuracy: 0.9853 - val_loss: 0.0613 - val_accuracy: 0.9881\n",
      "Epoch 27/35\n",
      "552/552 [==============================] - 2s 3ms/step - loss: 0.0434 - accuracy: 0.9853 - val_loss: 0.0645 - val_accuracy: 0.9872\n",
      "Epoch 28/35\n",
      "552/552 [==============================] - 2s 3ms/step - loss: 0.0426 - accuracy: 0.9847 - val_loss: 0.0628 - val_accuracy: 0.9870\n",
      "Epoch 29/35\n",
      "552/552 [==============================] - 2s 3ms/step - loss: 0.0397 - accuracy: 0.9863 - val_loss: 0.0619 - val_accuracy: 0.9876\n",
      "Epoch 30/35\n",
      "552/552 [==============================] - 2s 3ms/step - loss: 0.0443 - accuracy: 0.9843 - val_loss: 0.0624 - val_accuracy: 0.9877\n",
      "Epoch 31/35\n",
      "552/552 [==============================] - 2s 3ms/step - loss: 0.0421 - accuracy: 0.9849 - val_loss: 0.0644 - val_accuracy: 0.9880\n",
      "Epoch 32/35\n",
      "552/552 [==============================] - 2s 3ms/step - loss: 0.0403 - accuracy: 0.9849 - val_loss: 0.0628 - val_accuracy: 0.9885\n",
      "Epoch 33/35\n",
      "552/552 [==============================] - 2s 3ms/step - loss: 0.0386 - accuracy: 0.9859 - val_loss: 0.0638 - val_accuracy: 0.9882\n",
      "Epoch 34/35\n",
      "552/552 [==============================] - 2s 3ms/step - loss: 0.0412 - accuracy: 0.9868 - val_loss: 0.0619 - val_accuracy: 0.9884\n",
      "Epoch 35/35\n",
      "552/552 [==============================] - 2s 3ms/step - loss: 0.0406 - accuracy: 0.9865 - val_loss: 0.0612 - val_accuracy: 0.9877\n"
     ]
    },
    {
     "data": {
      "text/plain": [
       "<keras.callbacks.History at 0x7f557b93ab90>"
      ]
     },
     "execution_count": 25,
     "metadata": {},
     "output_type": "execute_result"
    }
   ],
   "source": [
    "model = keras.Sequential([\n",
    "    keras.layers.Dense(30,activation='relu'),\n",
    "    keras.layers.Dropout(0.5),\n",
    "    keras.layers.Dense(15,activation='relu'),\n",
    "    keras.layers.Dropout(0.5),\n",
    "    keras.layers.Dense(1,activation='sigmoid')\n",
    "])\n",
    "\n",
    "model.compile(optimizer='adam',\n",
    "             loss = 'binary_crossentropy',\n",
    "             metrics = 'accuracy'\n",
    "             )\n",
    "model.fit(X_train,y_train,epochs=35,validation_data=(X_test,y_test))"
   ]
  },
  {
   "cell_type": "code",
   "execution_count": 26,
   "id": "b3db3a87",
   "metadata": {
    "execution": {
     "iopub.execute_input": "2023-07-21T11:18:07.650366Z",
     "iopub.status.busy": "2023-07-21T11:18:07.649920Z",
     "iopub.status.idle": "2023-07-21T11:18:08.256344Z",
     "shell.execute_reply": "2023-07-21T11:18:08.255056Z"
    },
    "papermill": {
     "duration": 0.704706,
     "end_time": "2023-07-21T11:18:08.258975",
     "exception": false,
     "start_time": "2023-07-21T11:18:07.554269",
     "status": "completed"
    },
    "tags": []
   },
   "outputs": [
    {
     "name": "stdout",
     "output_type": "stream",
     "text": [
      "237/237 [==============================] - 0s 1ms/step\n",
      "[[3437   70]\n",
      " [  18 4033]]\n"
     ]
    }
   ],
   "source": [
    "# evaluating the model\n",
    "from sklearn.metrics import confusion_matrix\n",
    "predictions = model.predict(X_test)\n",
    "predictions = (predictions > 0.32) \n",
    "pred_cat = np.argmax(predictions,axis=1)\n",
    "\n",
    "print(confusion_matrix(y_test,predictions))\n"
   ]
  },
  {
   "cell_type": "code",
   "execution_count": 27,
   "id": "b70d067f",
   "metadata": {
    "execution": {
     "iopub.execute_input": "2023-07-21T11:18:08.451978Z",
     "iopub.status.busy": "2023-07-21T11:18:08.451131Z",
     "iopub.status.idle": "2023-07-21T11:18:08.455857Z",
     "shell.execute_reply": "2023-07-21T11:18:08.455077Z"
    },
    "papermill": {
     "duration": 0.104085,
     "end_time": "2023-07-21T11:18:08.458313",
     "exception": false,
     "start_time": "2023-07-21T11:18:08.354228",
     "status": "completed"
    },
    "tags": []
   },
   "outputs": [],
   "source": [
    "ypr3 = pd.DataFrame(predictions)"
   ]
  },
  {
   "cell_type": "code",
   "execution_count": 28,
   "id": "295cd3e6",
   "metadata": {
    "execution": {
     "iopub.execute_input": "2023-07-21T11:18:08.653939Z",
     "iopub.status.busy": "2023-07-21T11:18:08.653335Z",
     "iopub.status.idle": "2023-07-21T11:18:08.679616Z",
     "shell.execute_reply": "2023-07-21T11:18:08.678284Z"
    },
    "papermill": {
     "duration": 0.127462,
     "end_time": "2023-07-21T11:18:08.682764",
     "exception": false,
     "start_time": "2023-07-21T11:18:08.555302",
     "status": "completed"
    },
    "tags": []
   },
   "outputs": [],
   "source": [
    "yprr3 = ypr3.to_csv('yprr3.csv')"
   ]
  },
  {
   "cell_type": "code",
   "execution_count": null,
   "id": "a06f8615",
   "metadata": {
    "papermill": {
     "duration": 0.098699,
     "end_time": "2023-07-21T11:18:08.881301",
     "exception": false,
     "start_time": "2023-07-21T11:18:08.782602",
     "status": "completed"
    },
    "tags": []
   },
   "outputs": [],
   "source": []
  },
  {
   "cell_type": "code",
   "execution_count": 29,
   "id": "174bc22b",
   "metadata": {
    "execution": {
     "iopub.execute_input": "2023-07-21T11:18:09.080833Z",
     "iopub.status.busy": "2023-07-21T11:18:09.080405Z",
     "iopub.status.idle": "2023-07-21T11:18:09.107947Z",
     "shell.execute_reply": "2023-07-21T11:18:09.106336Z"
    },
    "papermill": {
     "duration": 0.132377,
     "end_time": "2023-07-21T11:18:09.110612",
     "exception": false,
     "start_time": "2023-07-21T11:18:08.978235",
     "status": "completed"
    },
    "tags": []
   },
   "outputs": [
    {
     "name": "stdout",
     "output_type": "stream",
     "text": [
      "              precision    recall  f1-score   support\n",
      "\n",
      "           0       0.99      0.98      0.99      3507\n",
      "           1       0.98      1.00      0.99      4051\n",
      "\n",
      "    accuracy                           0.99      7558\n",
      "   macro avg       0.99      0.99      0.99      7558\n",
      "weighted avg       0.99      0.99      0.99      7558\n",
      "\n"
     ]
    }
   ],
   "source": [
    "print(classification_report(y_test,predictions))"
   ]
  },
  {
   "cell_type": "code",
   "execution_count": 30,
   "id": "6ac0507d",
   "metadata": {
    "execution": {
     "iopub.execute_input": "2023-07-21T11:18:09.307453Z",
     "iopub.status.busy": "2023-07-21T11:18:09.306999Z",
     "iopub.status.idle": "2023-07-21T11:18:09.693632Z",
     "shell.execute_reply": "2023-07-21T11:18:09.692656Z"
    },
    "papermill": {
     "duration": 0.48877,
     "end_time": "2023-07-21T11:18:09.696731",
     "exception": false,
     "start_time": "2023-07-21T11:18:09.207961",
     "status": "completed"
    },
    "tags": []
   },
   "outputs": [],
   "source": [
    "import seaborn as sns\n",
    "import matplotlib.pyplot as plt"
   ]
  },
  {
   "cell_type": "code",
   "execution_count": 31,
   "id": "3ca926c3",
   "metadata": {
    "execution": {
     "iopub.execute_input": "2023-07-21T11:18:09.896190Z",
     "iopub.status.busy": "2023-07-21T11:18:09.894877Z",
     "iopub.status.idle": "2023-07-21T11:18:10.175583Z",
     "shell.execute_reply": "2023-07-21T11:18:10.174346Z"
    },
    "papermill": {
     "duration": 0.385786,
     "end_time": "2023-07-21T11:18:10.178914",
     "exception": false,
     "start_time": "2023-07-21T11:18:09.793128",
     "status": "completed"
    },
    "tags": []
   },
   "outputs": [
    {
     "data": {
      "image/png": "[encoded data removed]",
      "text/plain": [
       "<Figure size 640x480 with 2 Axes>"
      ]
     },
     "metadata": {},
     "output_type": "display_data"
    }
   ],
   "source": [
    "cm = confusion_matrix(y_test,predictions)\n",
    "sns.heatmap(cm, annot=True, fmt='d', cmap='Blues')\n",
    "plt.xlabel('Predicted Labels')\n",
    "plt.ylabel('True Labels')\n",
    "plt.show()"
   ]
  },
  {
   "cell_type": "code",
   "execution_count": 32,
   "id": "dee06f3f",
   "metadata": {
    "execution": {
     "iopub.execute_input": "2023-07-21T11:18:10.373700Z",
     "iopub.status.busy": "2023-07-21T11:18:10.373302Z",
     "iopub.status.idle": "2023-07-21T11:18:10.381106Z",
     "shell.execute_reply": "2023-07-21T11:18:10.379363Z"
    },
    "papermill": {
     "duration": 0.107417,
     "end_time": "2023-07-21T11:18:10.383516",
     "exception": false,
     "start_time": "2023-07-21T11:18:10.276099",
     "status": "completed"
    },
    "tags": []
   },
   "outputs": [
    {
     "name": "stdout",
     "output_type": "stream",
     "text": [
      "done\n"
     ]
    }
   ],
   "source": [
    "import pickle \n",
    "\n",
    "fh = \"intrusion_detection.sav\"\n",
    "pickle.dump(lor,open(fh,'wb'))\n",
    "print(\"done\")"
   ]
  },
  {
   "cell_type": "code",
   "execution_count": 33,
   "id": "fb205cb5",
   "metadata": {
    "execution": {
     "iopub.execute_input": "2023-07-21T11:18:10.575895Z",
     "iopub.status.busy": "2023-07-21T11:18:10.575461Z",
     "iopub.status.idle": "2023-07-21T11:18:10.580664Z",
     "shell.execute_reply": "2023-07-21T11:18:10.579350Z"
    },
    "papermill": {
     "duration": 0.105128,
     "end_time": "2023-07-21T11:18:10.583885",
     "exception": false,
     "start_time": "2023-07-21T11:18:10.478757",
     "status": "completed"
    },
    "tags": []
   },
   "outputs": [],
   "source": [
    "#loaded_model = pickle.load(open(\"intrusion_detection.sav\",\"rb\"))\n",
    "#loaded_model \n"
   ]
  }
 ],
 "metadata": {
  "kernelspec": {
   "display_name": "Python 3",
   "language": "python",
   "name": "python3"
  },
  "language_info": {
   "codemirror_mode": {
    "name": "ipython",
    "version": 3
   },
   "file_extension": ".py",
   "mimetype": "text/x-python",
   "name": "python",
   "nbconvert_exporter": "python",
   "pygments_lexer": "ipython3",
   "version": "3.10.10"
  },
  "papermill": {
   "default_parameters": {},
   "duration": 94.515742,
   "end_time": "2023-07-21T11:18:13.881166",
   "environment_variables": {},
   "exception": null,
   "input_path": "__notebook__.ipynb",
   "output_path": "__notebook__.ipynb",
   "parameters": {},
   "start_time": "2023-07-21T11:16:39.365424",
   "version": "2.4.0"
  }
 },
 "nbformat": 4,
 "nbformat_minor": 5
}
